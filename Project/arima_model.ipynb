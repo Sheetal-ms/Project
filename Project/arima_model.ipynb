{
 "cells": [
  {
   "cell_type": "code",
   "execution_count": 1,
   "metadata": {},
   "outputs": [],
   "source": [
    "import pandas as pd\n",
    "import numpy as np"
   ]
  },
  {
   "cell_type": "markdown",
   "metadata": {},
   "source": [
    "# Read Data"
   ]
  },
  {
   "cell_type": "code",
   "execution_count": 2,
   "metadata": {},
   "outputs": [
    {
     "data": {
      "text/html": [
       "<div>\n",
       "<style scoped>\n",
       "    .dataframe tbody tr th:only-of-type {\n",
       "        vertical-align: middle;\n",
       "    }\n",
       "\n",
       "    .dataframe tbody tr th {\n",
       "        vertical-align: top;\n",
       "    }\n",
       "\n",
       "    .dataframe thead th {\n",
       "        text-align: right;\n",
       "    }\n",
       "</style>\n",
       "<table border=\"1\" class=\"dataframe\">\n",
       "  <thead>\n",
       "    <tr style=\"text-align: right;\">\n",
       "      <th></th>\n",
       "      <th>date</th>\n",
       "      <th>pm25</th>\n",
       "    </tr>\n",
       "  </thead>\n",
       "  <tbody>\n",
       "    <tr>\n",
       "      <th>1835</th>\n",
       "      <td>2018-01-23 10:00:00</td>\n",
       "      <td>321.000000</td>\n",
       "    </tr>\n",
       "    <tr>\n",
       "      <th>1834</th>\n",
       "      <td>2018-01-23 11:00:00</td>\n",
       "      <td>305.000000</td>\n",
       "    </tr>\n",
       "    <tr>\n",
       "      <th>1833</th>\n",
       "      <td>2018-01-23 12:00:00</td>\n",
       "      <td>300.000000</td>\n",
       "    </tr>\n",
       "    <tr>\n",
       "      <th>1832</th>\n",
       "      <td>2018-01-26 15:00:00</td>\n",
       "      <td>306.685714</td>\n",
       "    </tr>\n",
       "    <tr>\n",
       "      <th>1831</th>\n",
       "      <td>2018-01-26 16:00:00</td>\n",
       "      <td>306.058824</td>\n",
       "    </tr>\n",
       "    <tr>\n",
       "      <th>...</th>\n",
       "      <td>...</td>\n",
       "      <td>...</td>\n",
       "    </tr>\n",
       "    <tr>\n",
       "      <th>4</th>\n",
       "      <td>2018-04-19 20:00:00</td>\n",
       "      <td>57.000000</td>\n",
       "    </tr>\n",
       "    <tr>\n",
       "      <th>3</th>\n",
       "      <td>2018-04-19 21:00:00</td>\n",
       "      <td>57.000000</td>\n",
       "    </tr>\n",
       "    <tr>\n",
       "      <th>2</th>\n",
       "      <td>2018-04-19 22:00:00</td>\n",
       "      <td>75.000000</td>\n",
       "    </tr>\n",
       "    <tr>\n",
       "      <th>1</th>\n",
       "      <td>2018-04-19 23:00:00</td>\n",
       "      <td>89.000000</td>\n",
       "    </tr>\n",
       "    <tr>\n",
       "      <th>0</th>\n",
       "      <td>2018-04-20 00:00:00</td>\n",
       "      <td>92.000000</td>\n",
       "    </tr>\n",
       "  </tbody>\n",
       "</table>\n",
       "<p>1836 rows × 2 columns</p>\n",
       "</div>"
      ],
      "text/plain": [
       "                    date        pm25\n",
       "1835 2018-01-23 10:00:00  321.000000\n",
       "1834 2018-01-23 11:00:00  305.000000\n",
       "1833 2018-01-23 12:00:00  300.000000\n",
       "1832 2018-01-26 15:00:00  306.685714\n",
       "1831 2018-01-26 16:00:00  306.058824\n",
       "...                  ...         ...\n",
       "4    2018-04-19 20:00:00   57.000000\n",
       "3    2018-04-19 21:00:00   57.000000\n",
       "2    2018-04-19 22:00:00   75.000000\n",
       "1    2018-04-19 23:00:00   89.000000\n",
       "0    2018-04-20 00:00:00   92.000000\n",
       "\n",
       "[1836 rows x 2 columns]"
      ]
     },
     "execution_count": 2,
     "metadata": {},
     "output_type": "execute_result"
    }
   ],
   "source": [
    "df = pd.read_excel(\"/home/sheetal/Downloads/Delhi.xlsx\", parse_dates=[0],skiprows=2)\n",
    "## reading a xlsx file using pandas library\n",
    "df['pm25']=pd.to_numeric(df['pm25'],errors='coerce')\n",
    "df.sort_values(by=['date'],ascending=True,inplace=True)\n",
    "rolling_airquality=df['pm25'].fillna(df.pm25.rolling(36,min_periods=1).mean(),inplace=True)\n",
    "\n",
    "df[538:]"
   ]
  },
  {
   "cell_type": "code",
   "execution_count": 3,
   "metadata": {},
   "outputs": [],
   "source": [
    "df.to_csv(\"Delhi_eda.csv\")"
   ]
  },
  {
   "cell_type": "markdown",
   "metadata": {},
   "source": [
    "# Check For Stationarity"
   ]
  },
  {
   "cell_type": "code",
   "execution_count": 3,
   "metadata": {},
   "outputs": [],
   "source": [
    "from statsmodels.tsa.stattools import adfuller\n",
    "\n",
    "def adf_test(dataset):\n",
    "  dftest = adfuller(dataset, autolag = 'AIC')\n",
    "  print(\"1. ADF : \",dftest[0])\n",
    "  print(\"2. P-Value : \", dftest[1])\n",
    "  print(\"3. Num Of Lags : \", dftest[2])\n",
    "  print(\"4. Num Of Observations Used For ADF Regression and Critical Values Calculation :\", dftest[3])\n",
    "  print(\"5. Critical Values :\")\n",
    "  for key, val in dftest[4].items():\n",
    "      print(\"\\t\",key, \": \", val)"
   ]
  },
  {
   "cell_type": "code",
   "execution_count": 4,
   "metadata": {},
   "outputs": [
    {
     "name": "stdout",
     "output_type": "stream",
     "text": [
      "1. ADF :  -3.480907985025991\n",
      "2. P-Value :  0.008491170927087819\n",
      "3. Num Of Lags :  27\n",
      "4. Num Of Observations Used For ADF Regression and Critical Values Calculation : 2346\n",
      "5. Critical Values :\n",
      "\t 1% :  -3.433140481496303\n",
      "\t 5% :  -2.862772784334684\n",
      "\t 10% :  -2.567426264858143\n"
     ]
    }
   ],
   "source": [
    "adf_test(df)"
   ]
  },
  {
   "cell_type": "markdown",
   "metadata": {},
   "source": [
    "\n",
    "# figure Out Order for ARIMA Model"
   ]
  },
  {
   "cell_type": "code",
   "execution_count": 5,
   "metadata": {},
   "outputs": [],
   "source": [
    "from pmdarima import auto_arima\n",
    "# Ignore harmless warnings\n",
    "import warnings\n",
    "warnings.filterwarnings(\"ignore\")"
   ]
  },
  {
   "cell_type": "code",
   "execution_count": 6,
   "metadata": {},
   "outputs": [],
   "source": [
    "from statsmodels.tsa.arima_model import ARIMA"
   ]
  },
  {
   "cell_type": "code",
   "execution_count": null,
   "metadata": {},
   "outputs": [],
   "source": []
  },
  {
   "cell_type": "markdown",
   "metadata": {},
   "source": [
    "# Split Data into Training and Testing"
   ]
  },
  {
   "cell_type": "code",
   "execution_count": 7,
   "metadata": {},
   "outputs": [
    {
     "name": "stdout",
     "output_type": "stream",
     "text": [
      "(2374, 1)\n",
      "(2074, 1) (300, 1)\n",
      "pm25    185.0\n",
      "Name: 2018-04-04 23:00:00, dtype: float64 pm25    92.0\n",
      "Name: 2018-04-20 00:00:00, dtype: float64\n"
     ]
    }
   ],
   "source": [
    "print(df.shape)\n",
    "train=df.iloc[:-300]\n",
    "test=df.iloc[-300:]\n",
    "print(train.shape,test.shape)\n",
    "print(test.iloc[0],test.iloc[-1])"
   ]
  },
  {
   "cell_type": "markdown",
   "metadata": {},
   "source": [
    "# Train the Model"
   ]
  },
  {
   "cell_type": "code",
   "execution_count": 8,
   "metadata": {},
   "outputs": [
    {
     "data": {
      "text/html": [
       "<table class=\"simpletable\">\n",
       "<caption>ARIMA Model Results</caption>\n",
       "<tr>\n",
       "  <th>Dep. Variable:</th>      <td>D.pm25</td>      <th>  No. Observations:  </th>    <td>2073</td>   \n",
       "</tr>\n",
       "<tr>\n",
       "  <th>Model:</th>          <td>ARIMA(6, 1, 6)</td>  <th>  Log Likelihood     </th> <td>-11048.905</td>\n",
       "</tr>\n",
       "<tr>\n",
       "  <th>Method:</th>             <td>css-mle</td>     <th>  S.D. of innovations</th>   <td>49.907</td>  \n",
       "</tr>\n",
       "<tr>\n",
       "  <th>Date:</th>          <td>Sun, 02 May 2021</td> <th>  AIC                </th>  <td>22125.811</td>\n",
       "</tr>\n",
       "<tr>\n",
       "  <th>Time:</th>              <td>13:11:19</td>     <th>  BIC                </th>  <td>22204.725</td>\n",
       "</tr>\n",
       "<tr>\n",
       "  <th>Sample:</th>                <td>1</td>        <th>  HQIC               </th>  <td>22154.734</td>\n",
       "</tr>\n",
       "<tr>\n",
       "  <th></th>                       <td> </td>        <th>                     </th>      <td> </td>    \n",
       "</tr>\n",
       "</table>\n",
       "<table class=\"simpletable\">\n",
       "<tr>\n",
       "        <td></td>          <th>coef</th>     <th>std err</th>      <th>z</th>      <th>P>|z|</th>  <th>[0.025</th>    <th>0.975]</th>  \n",
       "</tr>\n",
       "<tr>\n",
       "  <th>const</th>        <td>   -0.1201</td> <td>    0.136</td> <td>   -0.880</td> <td> 0.379</td> <td>   -0.388</td> <td>    0.147</td>\n",
       "</tr>\n",
       "<tr>\n",
       "  <th>ar.L1.D.pm25</th> <td>    2.2285</td> <td>    0.174</td> <td>   12.818</td> <td> 0.000</td> <td>    1.888</td> <td>    2.569</td>\n",
       "</tr>\n",
       "<tr>\n",
       "  <th>ar.L2.D.pm25</th> <td>   -1.4434</td> <td>    0.455</td> <td>   -3.173</td> <td> 0.002</td> <td>   -2.335</td> <td>   -0.552</td>\n",
       "</tr>\n",
       "<tr>\n",
       "  <th>ar.L3.D.pm25</th> <td>   -0.1544</td> <td>    0.876</td> <td>   -0.176</td> <td> 0.860</td> <td>   -1.872</td> <td>    1.563</td>\n",
       "</tr>\n",
       "<tr>\n",
       "  <th>ar.L4.D.pm25</th> <td>    0.6373</td> <td>    1.033</td> <td>    0.617</td> <td> 0.537</td> <td>   -1.388</td> <td>    2.663</td>\n",
       "</tr>\n",
       "<tr>\n",
       "  <th>ar.L5.D.pm25</th> <td>   -0.4345</td> <td>    0.632</td> <td>   -0.688</td> <td> 0.492</td> <td>   -1.673</td> <td>    0.804</td>\n",
       "</tr>\n",
       "<tr>\n",
       "  <th>ar.L6.D.pm25</th> <td>    0.1233</td> <td>    0.172</td> <td>    0.715</td> <td> 0.475</td> <td>   -0.215</td> <td>    0.461</td>\n",
       "</tr>\n",
       "<tr>\n",
       "  <th>ma.L1.D.pm25</th> <td>   -2.2712</td> <td>    0.172</td> <td>  -13.220</td> <td> 0.000</td> <td>   -2.608</td> <td>   -1.934</td>\n",
       "</tr>\n",
       "<tr>\n",
       "  <th>ma.L2.D.pm25</th> <td>    1.3182</td> <td>    0.458</td> <td>    2.876</td> <td> 0.004</td> <td>    0.420</td> <td>    2.217</td>\n",
       "</tr>\n",
       "<tr>\n",
       "  <th>ma.L3.D.pm25</th> <td>    0.3219</td> <td>    0.884</td> <td>    0.364</td> <td> 0.716</td> <td>   -1.410</td> <td>    2.054</td>\n",
       "</tr>\n",
       "<tr>\n",
       "  <th>ma.L4.D.pm25</th> <td>   -0.5396</td> <td>    1.003</td> <td>   -0.538</td> <td> 0.591</td> <td>   -2.506</td> <td>    1.427</td>\n",
       "</tr>\n",
       "<tr>\n",
       "  <th>ma.L5.D.pm25</th> <td>    0.3397</td> <td>    0.569</td> <td>    0.597</td> <td> 0.551</td> <td>   -0.776</td> <td>    1.456</td>\n",
       "</tr>\n",
       "<tr>\n",
       "  <th>ma.L6.D.pm25</th> <td>   -0.1638</td> <td>    0.159</td> <td>   -1.033</td> <td> 0.302</td> <td>   -0.475</td> <td>    0.147</td>\n",
       "</tr>\n",
       "</table>\n",
       "<table class=\"simpletable\">\n",
       "<caption>Roots</caption>\n",
       "<tr>\n",
       "    <td></td>   <th>            Real</th>  <th>         Imaginary</th> <th>         Modulus</th>  <th>        Frequency</th>\n",
       "</tr>\n",
       "<tr>\n",
       "  <th>AR.1</th> <td>          -1.4528</td> <td>          -0.0000j</td> <td>           1.4528</td> <td>          -0.5000</td>\n",
       "</tr>\n",
       "<tr>\n",
       "  <th>AR.2</th> <td>           0.9694</td> <td>          -0.2608j</td> <td>           1.0039</td> <td>          -0.0418</td>\n",
       "</tr>\n",
       "<tr>\n",
       "  <th>AR.3</th> <td>           0.9694</td> <td>          +0.2608j</td> <td>           1.0039</td> <td>           0.0418</td>\n",
       "</tr>\n",
       "<tr>\n",
       "  <th>AR.4</th> <td>           0.6620</td> <td>          -1.6711j</td> <td>           1.7975</td> <td>          -0.1900</td>\n",
       "</tr>\n",
       "<tr>\n",
       "  <th>AR.5</th> <td>           0.6620</td> <td>          +1.6711j</td> <td>           1.7975</td> <td>           0.1900</td>\n",
       "</tr>\n",
       "<tr>\n",
       "  <th>AR.6</th> <td>           1.7148</td> <td>          -0.0000j</td> <td>           1.7148</td> <td>          -0.0000</td>\n",
       "</tr>\n",
       "<tr>\n",
       "  <th>MA.1</th> <td>          -1.4499</td> <td>          -0.0000j</td> <td>           1.4499</td> <td>          -0.5000</td>\n",
       "</tr>\n",
       "<tr>\n",
       "  <th>MA.2</th> <td>           0.9980</td> <td>          -0.2588j</td> <td>           1.0310</td> <td>          -0.0404</td>\n",
       "</tr>\n",
       "<tr>\n",
       "  <th>MA.3</th> <td>           0.9980</td> <td>          +0.2588j</td> <td>           1.0310</td> <td>           0.0404</td>\n",
       "</tr>\n",
       "<tr>\n",
       "  <th>MA.4</th> <td>           1.0462</td> <td>          -0.0000j</td> <td>           1.0462</td> <td>          -0.0000</td>\n",
       "</tr>\n",
       "<tr>\n",
       "  <th>MA.5</th> <td>           0.2410</td> <td>          -1.9311j</td> <td>           1.9460</td> <td>          -0.2302</td>\n",
       "</tr>\n",
       "<tr>\n",
       "  <th>MA.6</th> <td>           0.2410</td> <td>          +1.9311j</td> <td>           1.9460</td> <td>           0.2302</td>\n",
       "</tr>\n",
       "</table>"
      ],
      "text/plain": [
       "<class 'statsmodels.iolib.summary.Summary'>\n",
       "\"\"\"\n",
       "                             ARIMA Model Results                              \n",
       "==============================================================================\n",
       "Dep. Variable:                 D.pm25   No. Observations:                 2073\n",
       "Model:                 ARIMA(6, 1, 6)   Log Likelihood              -11048.905\n",
       "Method:                       css-mle   S.D. of innovations             49.907\n",
       "Date:                Sun, 02 May 2021   AIC                          22125.811\n",
       "Time:                        13:11:19   BIC                          22204.725\n",
       "Sample:                             1   HQIC                         22154.734\n",
       "                                                                              \n",
       "================================================================================\n",
       "                   coef    std err          z      P>|z|      [0.025      0.975]\n",
       "--------------------------------------------------------------------------------\n",
       "const           -0.1201      0.136     -0.880      0.379      -0.388       0.147\n",
       "ar.L1.D.pm25     2.2285      0.174     12.818      0.000       1.888       2.569\n",
       "ar.L2.D.pm25    -1.4434      0.455     -3.173      0.002      -2.335      -0.552\n",
       "ar.L3.D.pm25    -0.1544      0.876     -0.176      0.860      -1.872       1.563\n",
       "ar.L4.D.pm25     0.6373      1.033      0.617      0.537      -1.388       2.663\n",
       "ar.L5.D.pm25    -0.4345      0.632     -0.688      0.492      -1.673       0.804\n",
       "ar.L6.D.pm25     0.1233      0.172      0.715      0.475      -0.215       0.461\n",
       "ma.L1.D.pm25    -2.2712      0.172    -13.220      0.000      -2.608      -1.934\n",
       "ma.L2.D.pm25     1.3182      0.458      2.876      0.004       0.420       2.217\n",
       "ma.L3.D.pm25     0.3219      0.884      0.364      0.716      -1.410       2.054\n",
       "ma.L4.D.pm25    -0.5396      1.003     -0.538      0.591      -2.506       1.427\n",
       "ma.L5.D.pm25     0.3397      0.569      0.597      0.551      -0.776       1.456\n",
       "ma.L6.D.pm25    -0.1638      0.159     -1.033      0.302      -0.475       0.147\n",
       "                                    Roots                                    \n",
       "=============================================================================\n",
       "                  Real          Imaginary           Modulus         Frequency\n",
       "-----------------------------------------------------------------------------\n",
       "AR.1           -1.4528           -0.0000j            1.4528           -0.5000\n",
       "AR.2            0.9694           -0.2608j            1.0039           -0.0418\n",
       "AR.3            0.9694           +0.2608j            1.0039            0.0418\n",
       "AR.4            0.6620           -1.6711j            1.7975           -0.1900\n",
       "AR.5            0.6620           +1.6711j            1.7975            0.1900\n",
       "AR.6            1.7148           -0.0000j            1.7148           -0.0000\n",
       "MA.1           -1.4499           -0.0000j            1.4499           -0.5000\n",
       "MA.2            0.9980           -0.2588j            1.0310           -0.0404\n",
       "MA.3            0.9980           +0.2588j            1.0310            0.0404\n",
       "MA.4            1.0462           -0.0000j            1.0462           -0.0000\n",
       "MA.5            0.2410           -1.9311j            1.9460           -0.2302\n",
       "MA.6            0.2410           +1.9311j            1.9460            0.2302\n",
       "-----------------------------------------------------------------------------\n",
       "\"\"\""
      ]
     },
     "execution_count": 8,
     "metadata": {},
     "output_type": "execute_result"
    }
   ],
   "source": [
    "from statsmodels.tsa.arima_model import ARIMA\n",
    "model=ARIMA(train,order=(6,1,6))\n",
    "model=model.fit()\n",
    "model.summary()"
   ]
  },
  {
   "cell_type": "code",
   "execution_count": 9,
   "metadata": {},
   "outputs": [
    {
     "name": "stdout",
     "output_type": "stream",
     "text": [
      "date\n",
      "2018-04-04 23:00:00    216.761919\n",
      "2018-04-05 00:00:00    205.973978\n",
      "2018-04-05 01:00:00    201.907515\n",
      "2018-04-05 02:00:00    200.868951\n",
      "2018-04-05 03:00:00    198.616765\n",
      "                          ...    \n",
      "2018-04-19 20:00:00    119.090737\n",
      "2018-04-19 21:00:00    115.107092\n",
      "2018-04-19 22:00:00    111.075325\n",
      "2018-04-19 23:00:00    107.263474\n",
      "2018-04-20 00:00:00    103.922473\n",
      "Name: ARIMA predictions, Length: 300, dtype: float64\n"
     ]
    }
   ],
   "source": [
    "start=len(train)\n",
    "end=len(train)+len(test)-1\n",
    "#if the predicted values dont have date values as index, you will have to uncomment the following two commented lines to plot a graph\n",
    "#index_future_dates=pd.date_range(start='2018-12-01',end='2018-12-30')\n",
    "pred=model.predict(start=start,end=end,typ='levels').rename('ARIMA predictions')\n",
    "pred.index=df.index[start:end+1]\n",
    "print(pred)"
   ]
  },
  {
   "cell_type": "code",
   "execution_count": 10,
   "metadata": {},
   "outputs": [
    {
     "data": {
      "text/plain": [
       "<AxesSubplot:xlabel='date'>"
      ]
     },
     "execution_count": 10,
     "metadata": {},
     "output_type": "execute_result"
    },
    {
     "data": {
      "image/png": "[encoded data removed]",
      "text/plain": [
       "<Figure size 432x288 with 1 Axes>"
      ]
     },
     "metadata": {
      "needs_background": "light"
     },
     "output_type": "display_data"
    },
    {
     "data": {
      "image/png": "[encoded data removed]",
      "text/plain": [
       "<Figure size 432x288 with 1 Axes>"
      ]
     },
     "metadata": {
      "needs_background": "light"
     },
     "output_type": "display_data"
    }
   ],
   "source": [
    "pred.plot(legend=True)\n",
    "test.plot(legend=True)"
   ]
  },
  {
   "cell_type": "code",
   "execution_count": 11,
   "metadata": {},
   "outputs": [
    {
     "name": "stdout",
     "output_type": "stream",
     "text": [
      "93.8934829563791\n"
     ]
    }
   ],
   "source": [
    "from sklearn.metrics import mean_squared_error\n",
    "from math import sqrt\n",
    "rmse=sqrt(mean_squared_error(pred,test))\n",
    "print(rmse)"
   ]
  },
  {
   "cell_type": "code",
   "execution_count": 12,
   "metadata": {},
   "outputs": [],
   "source": [
    "model2=ARIMA(df,order=(6,1,6))\n",
    "model2=model2.fit()"
   ]
  },
  {
   "cell_type": "code",
   "execution_count": 13,
   "metadata": {},
   "outputs": [
    {
     "data": {
      "text/html": [
       "<div>\n",
       "<style scoped>\n",
       "    .dataframe tbody tr th:only-of-type {\n",
       "        vertical-align: middle;\n",
       "    }\n",
       "\n",
       "    .dataframe tbody tr th {\n",
       "        vertical-align: top;\n",
       "    }\n",
       "\n",
       "    .dataframe thead th {\n",
       "        text-align: right;\n",
       "    }\n",
       "</style>\n",
       "<table border=\"1\" class=\"dataframe\">\n",
       "  <thead>\n",
       "    <tr style=\"text-align: right;\">\n",
       "      <th></th>\n",
       "      <th>pm25</th>\n",
       "    </tr>\n",
       "    <tr>\n",
       "      <th>date</th>\n",
       "      <th></th>\n",
       "    </tr>\n",
       "  </thead>\n",
       "  <tbody>\n",
       "    <tr>\n",
       "      <th>2018-04-19 20:00:00</th>\n",
       "      <td>57.0</td>\n",
       "    </tr>\n",
       "    <tr>\n",
       "      <th>2018-04-19 21:00:00</th>\n",
       "      <td>57.0</td>\n",
       "    </tr>\n",
       "    <tr>\n",
       "      <th>2018-04-19 22:00:00</th>\n",
       "      <td>75.0</td>\n",
       "    </tr>\n",
       "    <tr>\n",
       "      <th>2018-04-19 23:00:00</th>\n",
       "      <td>89.0</td>\n",
       "    </tr>\n",
       "    <tr>\n",
       "      <th>2018-04-20 00:00:00</th>\n",
       "      <td>92.0</td>\n",
       "    </tr>\n",
       "  </tbody>\n",
       "</table>\n",
       "</div>"
      ],
      "text/plain": [
       "                     pm25\n",
       "date                     \n",
       "2018-04-19 20:00:00  57.0\n",
       "2018-04-19 21:00:00  57.0\n",
       "2018-04-19 22:00:00  75.0\n",
       "2018-04-19 23:00:00  89.0\n",
       "2018-04-20 00:00:00  92.0"
      ]
     },
     "execution_count": 13,
     "metadata": {},
     "output_type": "execute_result"
    }
   ],
   "source": [
    "df.tail()"
   ]
  },
  {
   "cell_type": "code",
   "execution_count": 14,
   "metadata": {
    "scrolled": true
   },
   "outputs": [
    {
     "name": "stdout",
     "output_type": "stream",
     "text": [
      "2018-04-20 00:00:00     97.514121\n",
      "2018-04-20 01:00:00    101.070350\n",
      "2018-04-20 02:00:00    103.025355\n",
      "2018-04-20 03:00:00    103.175960\n",
      "2018-04-20 04:00:00    101.654968\n",
      "2018-04-20 05:00:00     98.998731\n",
      "2018-04-20 06:00:00     95.707996\n",
      "2018-04-20 07:00:00     92.122632\n",
      "2018-04-20 08:00:00     88.474619\n",
      "2018-04-20 09:00:00     85.007884\n",
      "2018-04-20 10:00:00     81.977664\n",
      "2018-04-20 11:00:00     79.613148\n",
      "2018-04-20 12:00:00     78.075904\n",
      "2018-04-20 13:00:00     77.456367\n",
      "2018-04-20 14:00:00     77.777652\n",
      "2018-04-20 15:00:00     79.001685\n",
      "2018-04-20 16:00:00     81.029923\n",
      "2018-04-20 17:00:00     83.708920\n",
      "2018-04-20 18:00:00     86.840457\n",
      "2018-04-20 19:00:00     90.196852\n",
      "2018-04-20 20:00:00     93.537349\n",
      "2018-04-20 21:00:00     96.624916\n",
      "2018-04-20 22:00:00     99.242095\n",
      "2018-04-20 23:00:00    101.205639\n",
      "2018-04-21 00:00:00    102.378733\n",
      "Freq: H, Name: ARIMA Predictions, dtype: float64\n"
     ]
    }
   ],
   "source": [
    "index_future_dates=pd.date_range(start='2018-04-20 00:00:00',periods=25,freq='H')\n",
    "pred=model2.predict(start=len(df),end=len(df)+24,typ='levels').rename('ARIMA Predictions')\n",
    "pred.index=index_future_dates\n",
    "print(pred)"
   ]
  },
  {
   "cell_type": "code",
   "execution_count": null,
   "metadata": {},
   "outputs": [],
   "source": [
    "pip freeze"
   ]
  },
  {
   "cell_type": "code",
   "execution_count": 27,
   "metadata": {},
   "outputs": [
    {
     "data": {
      "text/html": [
       "<div>\n",
       "<style scoped>\n",
       "    .dataframe tbody tr th:only-of-type {\n",
       "        vertical-align: middle;\n",
       "    }\n",
       "\n",
       "    .dataframe tbody tr th {\n",
       "        vertical-align: top;\n",
       "    }\n",
       "\n",
       "    .dataframe thead th {\n",
       "        text-align: right;\n",
       "    }\n",
       "</style>\n",
       "<table border=\"1\" class=\"dataframe\">\n",
       "  <thead>\n",
       "    <tr style=\"text-align: right;\">\n",
       "      <th></th>\n",
       "      <th>pm25</th>\n",
       "    </tr>\n",
       "    <tr>\n",
       "      <th>date</th>\n",
       "      <th></th>\n",
       "    </tr>\n",
       "  </thead>\n",
       "  <tbody>\n",
       "    <tr>\n",
       "      <th>2018-01-23 12:00:00</th>\n",
       "      <td>300.000000</td>\n",
       "    </tr>\n",
       "    <tr>\n",
       "      <th>2018-01-26 15:00:00</th>\n",
       "      <td>306.685714</td>\n",
       "    </tr>\n",
       "    <tr>\n",
       "      <th>2018-01-26 16:00:00</th>\n",
       "      <td>306.058824</td>\n",
       "    </tr>\n",
       "    <tr>\n",
       "      <th>2018-01-26 17:00:00</th>\n",
       "      <td>305.030303</td>\n",
       "    </tr>\n",
       "    <tr>\n",
       "      <th>2018-01-26 18:00:00</th>\n",
       "      <td>304.656250</td>\n",
       "    </tr>\n",
       "    <tr>\n",
       "      <th>...</th>\n",
       "      <td>...</td>\n",
       "    </tr>\n",
       "    <tr>\n",
       "      <th>2018-04-19 20:00:00</th>\n",
       "      <td>57.000000</td>\n",
       "    </tr>\n",
       "    <tr>\n",
       "      <th>2018-04-19 21:00:00</th>\n",
       "      <td>57.000000</td>\n",
       "    </tr>\n",
       "    <tr>\n",
       "      <th>2018-04-19 22:00:00</th>\n",
       "      <td>75.000000</td>\n",
       "    </tr>\n",
       "    <tr>\n",
       "      <th>2018-04-19 23:00:00</th>\n",
       "      <td>89.000000</td>\n",
       "    </tr>\n",
       "    <tr>\n",
       "      <th>2018-04-20 00:00:00</th>\n",
       "      <td>92.000000</td>\n",
       "    </tr>\n",
       "  </tbody>\n",
       "</table>\n",
       "<p>1834 rows × 1 columns</p>\n",
       "</div>"
      ],
      "text/plain": [
       "                           pm25\n",
       "date                           \n",
       "2018-01-23 12:00:00  300.000000\n",
       "2018-01-26 15:00:00  306.685714\n",
       "2018-01-26 16:00:00  306.058824\n",
       "2018-01-26 17:00:00  305.030303\n",
       "2018-01-26 18:00:00  304.656250\n",
       "...                         ...\n",
       "2018-04-19 20:00:00   57.000000\n",
       "2018-04-19 21:00:00   57.000000\n",
       "2018-04-19 22:00:00   75.000000\n",
       "2018-04-19 23:00:00   89.000000\n",
       "2018-04-20 00:00:00   92.000000\n",
       "\n",
       "[1834 rows x 1 columns]"
      ]
     },
     "execution_count": 27,
     "metadata": {},
     "output_type": "execute_result"
    }
   ],
   "source": [
    "df[540:]"
   ]
  },
  {
   "cell_type": "code",
   "execution_count": null,
   "metadata": {},
   "outputs": [],
   "source": [
    "data1=23"
   ]
  },
  {
   "cell_type": "code",
   "execution_count": null,
   "metadata": {},
   "outputs": [],
   "source": [
    "import pickle "
   ]
  },
  {
   "cell_type": "code",
   "execution_count": null,
   "metadata": {},
   "outputs": [],
   "source": [
    "pickle.dump(model2,open('model.p','wb')) "
   ]
  }
 ],
 "metadata": {
  "kernelspec": {
   "display_name": "Python 3",
   "language": "python",
   "name": "python3"
  },
  "language_info": {
   "codemirror_mode": {
    "name": "ipython",
    "version": 3
   },
   "file_extension": ".py",
   "mimetype": "text/x-python",
   "name": "python",
   "nbconvert_exporter": "python",
   "pygments_lexer": "ipython3",
   "version": "3.8.5"
  }
 },
 "nbformat": 4,
 "nbformat_minor": 4
}
